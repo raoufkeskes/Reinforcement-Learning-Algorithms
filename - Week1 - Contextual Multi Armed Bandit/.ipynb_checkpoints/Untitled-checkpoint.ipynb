{
 "cells": [
  {
   "cell_type": "markdown",
   "metadata": {},
   "source": [
    "## Libraries "
   ]
  },
  {
   "cell_type": "code",
   "execution_count": 1,
   "metadata": {},
   "outputs": [],
   "source": [
    "import re\n",
    "import numpy as np\n",
    "import sys\n",
    "import matplotlib.pyplot as plt "
   ]
  },
  {
   "cell_type": "markdown",
   "metadata": {},
   "source": [
    "## Data"
   ]
  },
  {
   "cell_type": "code",
   "execution_count": 2,
   "metadata": {},
   "outputs": [],
   "source": [
    "filepath = 'Data/CTR.txt'\n",
    "\n",
    "def read_data ( data_path = filepath ) : \n",
    "    \n",
    "    X , Y = [] , []\n",
    "    with open(filepath) as f:\n",
    "        lineList = f.readlines()\n",
    "        for line in lineList :\n",
    "            temp = np.array ( re.split(';|:',line)[1:] , dtype=np.float64 )\n",
    "            X.append (temp[:5])\n",
    "            Y.append (temp[5:])  \n",
    "            \n",
    "    return np.array(X) , np.array(Y) \n",
    "\n",
    "X , Y  = read_data ( filepath )"
   ]
  },
  {
   "cell_type": "code",
   "execution_count": 3,
   "metadata": {},
   "outputs": [
    {
     "name": "stdout",
     "output_type": "stream",
     "text": [
      "X : 'Context' shape confirmation : excpected = (5000,5) returned  =  (5000, 5)\n",
      "Y : 'Rewards' shape confirmation : excpected = (5000,10) returned =  (5000, 10)\n"
     ]
    }
   ],
   "source": [
    "print(\"X : 'Context' shape confirmation : excpected = (5000,5) returned  = \" , X.shape )\n",
    "print(\"Y : 'Rewards' shape confirmation : excpected = (5000,10) returned = \" , Y.shape )"
   ]
  },
  {
   "cell_type": "markdown",
   "metadata": {},
   "source": [
    "## 3 Baselines"
   ]
  },
  {
   "cell_type": "code",
   "execution_count": 4,
   "metadata": {},
   "outputs": [],
   "source": [
    "np.random.seed (0)\n",
    "\n",
    "def Random ( Y ) :\n",
    "    return np.random.randint( 0 , high=Y.shape[1] , size=Y.shape[0] )\n",
    "\n",
    "def Cumulative_Best( Y ):\n",
    "    return np.argmax ( np.cumsum(Y,axis=0) , axis=1 ) \n",
    "\n",
    "def Optimal ( Y ) :\n",
    "    return Y.argmax(1)"
   ]
  },
  {
   "cell_type": "code",
   "execution_count": 5,
   "metadata": {},
   "outputs": [
    {
     "name": "stdout",
     "output_type": "stream",
     "text": [
      "shape  (5000,)  result :  [5 0 3 ... 6 2 9]\n"
     ]
    }
   ],
   "source": [
    "res1 = Random( Y )\n",
    "print ( \"shape \", res1.shape , \" result : \" , res1 )"
   ]
  },
  {
   "cell_type": "code",
   "execution_count": 6,
   "metadata": {},
   "outputs": [
    {
     "name": "stdout",
     "output_type": "stream",
     "text": [
      "shape  (5000,)  result :  [6 9 9 ... 3 3 3]\n"
     ]
    }
   ],
   "source": [
    "res2 = Cumulative_Best( Y )\n",
    "print ( \"shape \", res2.shape , \" result : \" , res2 )"
   ]
  },
  {
   "cell_type": "code",
   "execution_count": 7,
   "metadata": {
    "scrolled": true
   },
   "outputs": [
    {
     "name": "stdout",
     "output_type": "stream",
     "text": [
      "shape  (5000,)  result :  [6 9 9 ... 3 1 3]\n"
     ]
    }
   ],
   "source": [
    "res3 = Optimal( Y )\n",
    "print ( \"shape \", res3.shape , \" result : \" , res3 )"
   ]
  },
  {
   "cell_type": "markdown",
   "metadata": {},
   "source": [
    "## UCB [Auer et al., 2002] and UCB-V [Audibert et al., 2007]\n"
   ]
  },
  {
   "cell_type": "code",
   "execution_count": 8,
   "metadata": {},
   "outputs": [],
   "source": [
    "def UCB ( Y , V=False ) : \n",
    "    \n",
    "    '''\n",
    "    Y : Rewards ( t , arms )\n",
    "    V : UCB-V  ( empirical variance bound)\n",
    "    '''\n",
    "    \n",
    "    ######## init ######## \n",
    "    # number of iterations\n",
    "    T = Y.shape[0]\n",
    "    # number of arms \n",
    "    N = Y.shape[1]\n",
    "    \n",
    "    reward_cumsum_arms       = np.zeros(N)\n",
    "    reward_cumsumsqrt_arms   = np.zeros(N)\n",
    "    selection_arms           = np.ones(N)\n",
    "    selected_arms , rewards  = [],[]\n",
    "    #######################\n",
    "    \n",
    "    ######## UCB Strategy ###########\n",
    "    for t in range ( T ) :\n",
    "        # avg + delta \n",
    "        avg = (reward_cumsum_arms/selection_arms)\n",
    "        if ( V ) : \n",
    "            variance = ( reward_cumsumsqrt_arms/selection_arms ) - ( avg**2 )\n",
    "            delta    = np.sqrt(2*np.log(t+1)*variance / selection_arms) + ( np.log(t+1) / (2*selection_arms) )\n",
    "        else :\n",
    "            delta = np.sqrt ( 2*np.log(t+1) / selection_arms )\n",
    "            \n",
    "        scores = avg + delta\n",
    "        selected_arm = scores.argmax()\n",
    "        # update tracking informations \n",
    "        selected_arms.append(selected_arm)\n",
    "        rewards.append(Y[t,selected_arm])\n",
    "        selection_arms[ selected_arm ] += 1\n",
    "        reward_cumsum_arms[ selected_arm ] += Y[t,selected_arm]\n",
    "        reward_cumsumsqrt_arms[ selected_arm ] += (Y[t,selected_arm]**2)\n",
    "    ######## UCB Strategy ###########  \n",
    "   \n",
    "    return np.array(selected_arms)"
   ]
  },
  {
   "cell_type": "code",
   "execution_count": 9,
   "metadata": {},
   "outputs": [
    {
     "name": "stdout",
     "output_type": "stream",
     "text": [
      "Wall time: 76.3 ms\n"
     ]
    }
   ],
   "source": [
    "%%time\n",
    "\n",
    "res = UCB ( Y  , True )"
   ]
  },
  {
   "cell_type": "markdown",
   "metadata": {},
   "source": [
    "# Linear UCB [Li et al., 2010]"
   ]
  },
  {
   "cell_type": "code",
   "execution_count": 10,
   "metadata": {},
   "outputs": [],
   "source": [
    "def LinUCB ( X , Y , alpha=0.5  ) : \n",
    "    \n",
    "    ######## init ######## \n",
    "    # number of iterations\n",
    "    T = Y.shape[0]\n",
    "    # number of arms \n",
    "    N = Y.shape[1]\n",
    "    # d : context dimension\n",
    "    d = X.shape[1]\n",
    "    \n",
    "    arms = np.arange(N)\n",
    "    A = np.zeros( (N,d,d) )\n",
    "    b = np.zeros( (N,d) )\n",
    "    params = np.random.randn( N,d )\n",
    "    predicted_reward = np.zeros (N)\n",
    "    \n",
    "    new = [True] * N\n",
    "    \n",
    "    selected_arms , rewards  = [],[]\n",
    "    #######################\n",
    "    for t in range ( T ) : \n",
    "        for a in arms :\n",
    "            if ( new[a] ) :\n",
    "                A[a] = np.identity(d)\n",
    "                new[a] = False\n",
    "            \n",
    "            inverse_Aa = np.linalg.inv(A[a])\n",
    "            params[a] = inverse_Aa @ b[a]\n",
    "            predicted_reward[a] = params[a] @ X[t] + alpha * np.sqrt( X[t].T @ inverse_Aa @ X[t] )\n",
    "              \n",
    "        selected_arm = np.random.choice ( np.where (predicted_reward==predicted_reward.max())[0] )\n",
    "        A[selected_arm] = A[selected_arm] +  X[t] @ X[t].T\n",
    "        b[selected_arm] = b[selected_arm] +  Y[t,selected_arm] * X[t]\n",
    "        \n",
    "        selected_arms.append( selected_arm )\n",
    "        rewards.append( Y[t,selected_arm] )\n",
    "        \n",
    "    return np.array(selected_arms)\n"
   ]
  },
  {
   "cell_type": "code",
   "execution_count": 11,
   "metadata": {},
   "outputs": [],
   "source": [
    "res = LinUCB(X,Y)"
   ]
  },
  {
   "cell_type": "code",
   "execution_count": 12,
   "metadata": {},
   "outputs": [
    {
     "data": {
      "text/plain": [
       "array([7, 8, 5, ..., 9, 1, 3], dtype=int64)"
      ]
     },
     "execution_count": 12,
     "metadata": {},
     "output_type": "execute_result"
    }
   ],
   "source": [
    "res"
   ]
  },
  {
   "cell_type": "markdown",
   "metadata": {},
   "source": [
    "## Evaluation "
   ]
  },
  {
   "cell_type": "code",
   "execution_count": 13,
   "metadata": {},
   "outputs": [],
   "source": [
    "def get_cum_rewards (  real_rewards , res_strategy  ) :\n",
    "    return (real_rewards [ np.arange(len(res_strategy)) , res_strategy ]).cumsum()\n",
    "\n",
    "def get_regrets (  real_rewards , res_strategy  ) :\n",
    "    return (real_rewards [ np.arange(len(res_strategy)) , res_strategy ]).cumsum()"
   ]
  },
  {
   "cell_type": "code",
   "execution_count": 20,
   "metadata": {},
   "outputs": [
    {
     "name": "stdout",
     "output_type": "stream",
     "text": [
      "Wall time: 971 ms\n"
     ]
    }
   ],
   "source": [
    "%%time \n",
    "\n",
    "# cumulative rewards\n",
    "cum_random =  get_cum_rewards ( Y , Random ( Y ) ) \n",
    "cum_optimal=  get_cum_rewards ( Y , Optimal ( Y ) )  \n",
    "cum_best   =  get_cum_rewards ( Y , Cumulative_Best ( Y ) )  \n",
    "cum_UCB    =  get_cum_rewards ( Y , UCB ( Y ) )  \n",
    "cum_UCBV   =  get_cum_rewards ( Y , UCB ( Y , V=True ) ) \n",
    "cum_LinUCB =  get_cum_rewards ( Y , LinUCB ( X , Y ) )  \n",
    "\n"
   ]
  },
  {
   "cell_type": "code",
   "execution_count": 21,
   "metadata": {},
   "outputs": [],
   "source": [
    "T = np.arange(Y.shape[0])\n"
   ]
  },
  {
   "cell_type": "code",
   "execution_count": 22,
   "metadata": {},
   "outputs": [
    {
     "data": {
      "text/plain": [
       "<matplotlib.legend.Legend at 0x2713812cb70>"
      ]
     },
     "execution_count": 22,
     "metadata": {},
     "output_type": "execute_result"
    },
    {
     "data": {
      "image/png": "[encoded data removed]",
      "text/plain": [
       "<Figure size 1008x360 with 2 Axes>"
      ]
     },
     "metadata": {
      "needs_background": "light"
     },
     "output_type": "display_data"
    }
   ],
   "source": [
    "\n",
    "\n",
    "plt.figure(figsize=(14,5))\n",
    "\n",
    "plt.subplot(1,2,1)\n",
    "plt.plot( T , cum_random  , label=\"Random\" )\n",
    "plt.plot( T , cum_optimal , label=\"Optimal\" )\n",
    "plt.plot( T , cum_best    , label=\"Cumulative Best\" )\n",
    "plt.plot( T , cum_UCB     , label=\"UCB\" )\n",
    "plt.plot( T , cum_UCBV    , label=\"UCB-V\" )\n",
    "plt.plot( T , cum_LinUCB   , label=\"LinUCB\" )\n",
    "plt.xlabel('iterations')\n",
    "plt.title(\"rewards\")\n",
    "plt.legend(loc=\"best\")\n",
    "\n",
    "plt.subplot(1,2,2)\n",
    "plt.plot( T , cum_optimal - cum_random  , label=\"Random\" )\n",
    "## added to not loose colors matching\n",
    "plt.plot( T , cum_optimal - cum_optimal , label=\"Optimal\" )\n",
    "plt.plot( T , cum_optimal - cum_best    , label=\"Cumulative Best\" )\n",
    "plt.plot( T , cum_optimal - cum_UCB     , label=\"UCB\" )\n",
    "plt.plot( T , cum_optimal - cum_UCBV    , label=\"UCB-V\" )\n",
    "plt.plot( T , cum_optimal - cum_LinUCB  , label=\"LinUCB\" )\n",
    "plt.xlabel('iterations')\n",
    "plt.title(\"regrets\")\n",
    "plt.legend(loc=\"best\")"
   ]
  }
 ],
 "metadata": {
  "kernelspec": {
   "display_name": "Python 3",
   "language": "python",
   "name": "python3"
  },
  "language_info": {
   "codemirror_mode": {
    "name": "ipython",
    "version": 3
   },
   "file_extension": ".py",
   "mimetype": "text/x-python",
   "name": "python",
   "nbconvert_exporter": "python",
   "pygments_lexer": "ipython3",
   "version": "3.7.3"
  }
 },
 "nbformat": 4,
 "nbformat_minor": 2
}
