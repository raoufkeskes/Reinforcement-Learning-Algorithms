{
 "cells": [
  {
   "cell_type": "code",
   "execution_count": 1,
   "metadata": {},
   "outputs": [],
   "source": [
    "import os\n",
    "import sys\n",
    "import gym\n",
    "import random\n",
    "import numpy as np\n",
    "import matplotlib.pyplot as plt \n",
    "\n",
    "import torch\n",
    "import torch.nn as nn\n",
    "import torch.optim as optim\n",
    "import torch.nn.functional as F\n",
    "\n",
    "from collections import namedtuple, deque"
   ]
  },
  {
   "cell_type": "markdown",
   "metadata": {},
   "source": [
    "## CartPole"
   ]
  },
  {
   "cell_type": "code",
   "execution_count": 2,
   "metadata": {},
   "outputs": [],
   "source": [
    "Transition = namedtuple('Transition', ('state', 'next_state', 'action', 'reward', 'mask'))\n",
    "\n",
    "\n",
    "class Memory(object):\n",
    "    def __init__(self, capacity):\n",
    "        self.memory = deque(maxlen=capacity)\n",
    "        self.capacity = capacity\n",
    "\n",
    "    def push(self, state, next_state, action, reward, mask):\n",
    "        self.memory.append(Transition(state, next_state, action, reward, mask))\n",
    "\n",
    "    def sample(self, batch_size):\n",
    "        transitions = random.sample(self.memory, batch_size)\n",
    "        batch = Transition(*zip(*transitions))\n",
    "        return batch\n",
    "\n",
    "    def __len__(self):\n",
    "        return len(self.memory)\n"
   ]
  },
  {
   "cell_type": "code",
   "execution_count": 3,
   "metadata": {},
   "outputs": [],
   "source": [
    "def get_action(state, online_net, epsilon, env):\n",
    "    if np.random.rand() <= epsilon:\n",
    "        return env.action_space.sample()\n",
    "    else:\n",
    "        return online_net.get_action(state)\n",
    "\n",
    "def update_target_model(online_net, target_net):\n",
    "    target_net.load_state_dict(online_net.state_dict())"
   ]
  },
  {
   "cell_type": "markdown",
   "metadata": {},
   "source": [
    "## DQN"
   ]
  },
  {
   "cell_type": "code",
   "execution_count": 4,
   "metadata": {},
   "outputs": [],
   "source": [
    "class QNet(nn.Module):\n",
    "    def __init__(self, num_inputs, num_outputs):\n",
    "        super(QNet, self).__init__()\n",
    "        self.num_inputs = num_inputs\n",
    "        self.num_outputs = num_outputs\n",
    "\n",
    "        self.fc1 = nn.Linear(num_inputs, 128)\n",
    "        self.fc2 = nn.Linear(128, num_outputs)\n",
    "\n",
    "        for m in self.modules():\n",
    "            if isinstance(m, nn.Linear):\n",
    "                nn.init.xavier_uniform_(m.weight)\n",
    "\n",
    "    def forward(self, x):\n",
    "        x = F.relu(self.fc1(x))\n",
    "        qvalue = self.fc2(x)\n",
    "        return qvalue\n",
    "\n",
    "    @classmethod\n",
    "    def train_model(cls, online_net, target_net, optimizer, batch):\n",
    "        states = torch.stack(batch.state)\n",
    "        next_states = torch.stack(batch.next_state)\n",
    "        actions = torch.Tensor(batch.action).float()\n",
    "        rewards = torch.Tensor(batch.reward)\n",
    "        masks = torch.Tensor(batch.mask)\n",
    "\n",
    "        pred = online_net(states).squeeze(1)\n",
    "        next_pred = target_net(next_states).squeeze(1)\n",
    "\n",
    "        pred = torch.sum(pred.mul(actions), dim=1)\n",
    "\n",
    "        target = rewards + masks * gamma * next_pred.max(1)[0]\n",
    "\n",
    "        loss = F.mse_loss(pred, target.detach())\n",
    "        optimizer.zero_grad()\n",
    "        loss.backward()\n",
    "        optimizer.step()\n",
    "\n",
    "        return loss\n",
    "\n",
    "    def get_action(self, input):\n",
    "        qvalue = self.forward(input)\n",
    "        _, action = torch.max(qvalue, 1)\n",
    "        return action.numpy()[0]"
   ]
  },
  {
   "cell_type": "markdown",
   "metadata": {},
   "source": [
    "###  hyper parameters"
   ]
  },
  {
   "cell_type": "code",
   "execution_count": 12,
   "metadata": {},
   "outputs": [],
   "source": [
    "gamma = 0.99\n",
    "batch_size = 64\n",
    "lr = 0.0005\n",
    "log_interval = 10\n",
    "update_target = 20\n",
    "replay_memory_capacity = 1000\n",
    "count_epsds = 500\n",
    "epsilon = 1.0\n",
    "\n",
    "device = torch.device(\"cuda\" if torch.cuda.is_available() else \"cpu\")\n"
   ]
  },
  {
   "cell_type": "markdown",
   "metadata": {},
   "source": [
    "##### train "
   ]
  },
  {
   "cell_type": "code",
   "execution_count": 13,
   "metadata": {
    "scrolled": false
   },
   "outputs": [],
   "source": [
    "env_name = 'LunarLander-v2'\n",
    "\n",
    "\n",
    "env = gym.make(env_name)\n",
    "env.seed(0)\n",
    "torch.manual_seed(0)\n",
    "\n",
    "num_inputs = env.observation_space.shape[0]\n",
    "num_actions = env.action_space.n"
   ]
  },
  {
   "cell_type": "code",
   "execution_count": 14,
   "metadata": {},
   "outputs": [],
   "source": [
    "import time "
   ]
  },
  {
   "cell_type": "code",
   "execution_count": 15,
   "metadata": {
    "scrolled": true
   },
   "outputs": [
    {
     "name": "stdout",
     "output_type": "stream",
     "text": [
      "episode 0| score: 102 | epsilon: 1.00\n",
      "episode 10| score: 101 | epsilon: 1.00\n",
      "episode 20| score: 86 | epsilon: 0.95\n",
      "episode 30| score: 111 | epsilon: 0.90\n",
      "episode 40| score: 67 | epsilon: 0.85\n",
      "episode 50| score: 101 | epsilon: 0.80\n",
      "episode 60| score: 114 | epsilon: 0.74\n",
      "episode 70| score: 130 | epsilon: 0.69\n",
      "episode 80| score: 86 | epsilon: 0.62\n",
      "episode 90| score: 252 | epsilon: 0.54\n",
      "episode 100| score: 201 | epsilon: 0.43\n",
      "episode 110| score: 373 | epsilon: 0.31\n",
      "episode 120| score: 171 | epsilon: 0.11\n",
      "episode 130| score: 190 | epsilon: 0.01\n",
      "episode 140| score: 654 | epsilon: 0.01\n",
      "episode 150| score: 189 | epsilon: 0.01\n",
      "episode 160| score: 467 | epsilon: 0.01\n",
      "episode 170| score: 238 | epsilon: 0.01\n",
      "episode 180| score: 100 | epsilon: 0.01\n",
      "episode 190| score: 483 | epsilon: 0.01\n",
      "episode 200| score: 372 | epsilon: 0.01\n",
      "episode 210| score: 370 | epsilon: 0.01\n",
      "episode 220| score: 185 | epsilon: 0.01\n",
      "episode 230| score: 1000 | epsilon: 0.01\n",
      "episode 240| score: 1000 | epsilon: 0.01\n",
      "episode 250| score: 538 | epsilon: 0.01\n",
      "episode 260| score: 484 | epsilon: 0.01\n",
      "episode 270| score: 436 | epsilon: 0.01\n",
      "episode 280| score: 306 | epsilon: 0.01\n",
      "episode 290| score: 1000 | epsilon: 0.01\n",
      "episode 300| score: 1000 | epsilon: 0.01\n",
      "episode 310| score: 318 | epsilon: 0.01\n",
      "episode 320| score: 84 | epsilon: 0.01\n",
      "episode 330| score: 739 | epsilon: 0.01\n",
      "episode 340| score: 586 | epsilon: 0.01\n",
      "episode 350| score: 319 | epsilon: 0.01\n",
      "episode 360| score: 303 | epsilon: 0.01\n",
      "episode 370| score: 113 | epsilon: 0.01\n",
      "episode 380| score: 111 | epsilon: 0.01\n",
      "episode 390| score: 82 | epsilon: 0.01\n",
      "episode 400| score: 70 | epsilon: 0.01\n",
      "episode 410| score: 833 | epsilon: 0.01\n",
      "episode 420| score: 282 | epsilon: 0.01\n",
      "episode 430| score: 131 | epsilon: 0.01\n",
      "episode 440| score: 481 | epsilon: 0.01\n",
      "episode 450| score: 827 | epsilon: 0.01\n",
      "episode 460| score: 407 | epsilon: 0.01\n",
      "episode 470| score: 393 | epsilon: 0.01\n",
      "episode 480| score: 510 | epsilon: 0.01\n",
      "episode 490| score: 459 | epsilon: 0.01\n"
     ]
    }
   ],
   "source": [
    "online_net = QNet(num_inputs, num_actions)\n",
    "target_net = QNet(num_inputs, num_actions)\n",
    "update_target_model(online_net, target_net)\n",
    "optimizer = optim.Adam(online_net.parameters(), lr=lr)\n",
    "\n",
    "online_net.to(device)\n",
    "target_net.to(device)\n",
    "online_net.train()\n",
    "target_net.train()\n",
    "memory = Memory(replay_memory_capacity)\n",
    "\n",
    "steps = 0\n",
    "loss = 0\n",
    "nbr_actions_list, score_list, loss_list = [],[],[]\n",
    "\n",
    "for e in range(count_epsds):\n",
    "    \n",
    "    done = False\n",
    "    score = 0\n",
    "    state = env.reset()\n",
    "    state = torch.Tensor(state).to(device)\n",
    "    state = state.unsqueeze(0)\n",
    "    nbr_actions = 0\n",
    "    avg_loss = 0 \n",
    "    while not done:\n",
    "        \n",
    "        \n",
    "        \n",
    "        steps += 1\n",
    "\n",
    "\n",
    "        action = get_action(state, online_net, epsilon, env)\n",
    "        next_state, reward, done, _ = env.step(action)\n",
    "        nbr_actions += 1\n",
    "        next_state = torch.Tensor(next_state)\n",
    "        next_state = next_state.unsqueeze(0)\n",
    "\n",
    "        mask = 0 if done else 1\n",
    "        reward = reward if not done or score == 499 else -1\n",
    "        action_one_hot = np.zeros(4)\n",
    "        action_one_hot[action] = 1\n",
    "        memory.push(state, next_state, action_one_hot, reward, mask)\n",
    "\n",
    "        score += reward\n",
    "        state = next_state\n",
    "        \n",
    "        if ( e % 100 ):\n",
    "            env.render(0.0001)\n",
    "        \n",
    "        if steps > replay_memory_capacity:\n",
    "\n",
    "            epsilon -= 0.00005\n",
    "            epsilon = max(epsilon, 0.01)\n",
    "    \n",
    "            batch = memory.sample(batch_size)\n",
    "            loss = QNet.train_model(online_net, target_net, optimizer, batch)\n",
    "\n",
    "            if steps % update_target == 0:\n",
    "                update_target_model(online_net, target_net)\n",
    "\n",
    "            \n",
    "            avg_loss += loss\n",
    "            \n",
    "    score_list.append(score)\n",
    "    \n",
    "    \n",
    "    if e % log_interval == 0:\n",
    "    \n",
    "        print('episode {}| score: {} | epsilon: {:.2f}'.format(\n",
    "            e, nbr_actions, epsilon))\n",
    "        "
   ]
  },
  {
   "cell_type": "code",
   "execution_count": 16,
   "metadata": {},
   "outputs": [],
   "source": [
    "env.close()"
   ]
  },
  {
   "cell_type": "code",
   "execution_count": 17,
   "metadata": {
    "scrolled": false
   },
   "outputs": [
    {
     "data": {
      "image/png": "[encoded data removed]",
      "text/plain": [
       "<Figure size 360x360 with 1 Axes>"
      ]
     },
     "metadata": {
      "needs_background": "light"
     },
     "output_type": "display_data"
    }
   ],
   "source": [
    "plt.figure(figsize=(,5))\n",
    "    \n",
    "\n",
    "\n",
    "plt.plot( np.arange(count_epsds), score_list, \"blue\")\n",
    "plt.xlabel('episodes')\n",
    "plt.title(\"reward\")\n",
    "\n",
    "\n",
    "\n",
    "plt.show()"
   ]
  },
  {
   "cell_type": "markdown",
   "metadata": {},
   "source": [
    "## Smooth Plot"
   ]
  }
 ],
 "metadata": {
  "kernelspec": {
   "display_name": "Python 3",
   "language": "python",
   "name": "python3"
  },
  "language_info": {
   "codemirror_mode": {
    "name": "ipython",
    "version": 3
   },
   "file_extension": ".py",
   "mimetype": "text/x-python",
   "name": "python",
   "nbconvert_exporter": "python",
   "pygments_lexer": "ipython3",
   "version": "3.7.4"
  }
 },
 "nbformat": 4,
 "nbformat_minor": 4
}
